{
 "cells": [
  {
   "cell_type": "markdown",
   "id": "d72bfd2b",
   "metadata": {},
   "source": [
    "# Primeira aula da Semana do Python"
   ]
  },
  {
   "cell_type": "markdown",
   "id": "9d2ed7c1",
   "metadata": {},
   "source": [
    "## Comando print()\n"
   ]
  },
  {
   "cell_type": "code",
   "execution_count": 1,
   "id": "d2b9c468",
   "metadata": {},
   "outputs": [
    {
     "name": "stdout",
     "output_type": "stream",
     "text": [
      "Hello world\n"
     ]
    }
   ],
   "source": [
    "print(\"Hello world\")"
   ]
  },
  {
   "cell_type": "markdown",
   "id": "be268ccc",
   "metadata": {},
   "source": [
    "## Entrada de dados do usuário - input()"
   ]
  },
  {
   "cell_type": "code",
   "execution_count": 1,
   "id": "16c73629",
   "metadata": {},
   "outputs": [
    {
     "name": "stdout",
     "output_type": "stream",
     "text": [
      "Digite a descrição do projeto: Semana do Python na Prática\n"
     ]
    },
    {
     "data": {
      "text/plain": [
       "'Semana do Python na Prática'"
      ]
     },
     "execution_count": 1,
     "metadata": {},
     "output_type": "execute_result"
    }
   ],
   "source": [
    "input(\"Digite a descrição do projeto: \")"
   ]
  },
  {
   "cell_type": "markdown",
   "id": "d598efa5",
   "metadata": {},
   "source": [
    "## Armazenar dados em uma variável\n",
    "\n",
    "- não começar com número\n",
    "- não pode ter espaço em branco\n"
   ]
  },
  {
   "cell_type": "code",
   "execution_count": 6,
   "id": "4c002938",
   "metadata": {},
   "outputs": [
    {
     "name": "stdout",
     "output_type": "stream",
     "text": [
      "Digite a descrição do projeto: Projeto Python\n",
      "Digite a quantidade de horas previstas: 200\n",
      "Digite o valor da hora trabalhada: 150\n",
      "Digite o prazo estimado: 3 meses\n"
     ]
    }
   ],
   "source": [
    "descricao_projeto = input(\"Digite a descrição do projeto: \")\n",
    "horas_previstas = input(\"Digite a quantidade de horas previstas: \")\n",
    "valor_hora = input(\"Digite o valor da hora trabalhada: \")\n",
    "prazo = input(\"Digite o prazo estimado: \")"
   ]
  },
  {
   "cell_type": "code",
   "execution_count": 2,
   "id": "2a443997",
   "metadata": {},
   "outputs": [
    {
     "name": "stdout",
     "output_type": "stream",
     "text": [
      "Desenvolvimento de uma automação\n"
     ]
    }
   ],
   "source": [
    "print(descricao_projeto)"
   ]
  },
  {
   "cell_type": "markdown",
   "id": "abd039d1",
   "metadata": {},
   "source": [
    "## Realizando cálculos com o Python\n",
    "\n",
    "valor total = quantidade de horas X valor da hora\n"
   ]
  },
  {
   "cell_type": "code",
   "execution_count": 10,
   "id": "afe6a644",
   "metadata": {},
   "outputs": [],
   "source": [
    "valor_total = int(horas_previstas) * int(valor_hora)"
   ]
  },
  {
   "cell_type": "markdown",
   "id": "835faa82",
   "metadata": {},
   "source": [
    "### Tipos de dados - como usar o type()\n",
    "\n",
    "- Texto (str)\n",
    "- numéricos (int)"
   ]
  },
  {
   "cell_type": "code",
   "execution_count": 4,
   "id": "5c05109c",
   "metadata": {},
   "outputs": [
    {
     "data": {
      "text/plain": [
       "str"
      ]
     },
     "execution_count": 4,
     "metadata": {},
     "output_type": "execute_result"
    }
   ],
   "source": [
    "type(horas_previstas)"
   ]
  },
  {
   "cell_type": "markdown",
   "id": "60ff9673",
   "metadata": {},
   "source": [
    "# Gerando o Orçamento"
   ]
  },
  {
   "cell_type": "code",
   "execution_count": 7,
   "id": "0c8fb64f",
   "metadata": {},
   "outputs": [
    {
     "name": "stdout",
     "output_type": "stream",
     "text": [
      "Defaulting to user installation because normal site-packages is not writeable\n",
      "Collecting fpdf\n",
      "  Downloading fpdf-1.7.2.tar.gz (39 kB)\n",
      "  Preparing metadata (setup.py): started\n",
      "  Preparing metadata (setup.py): finished with status 'done'\n",
      "Building wheels for collected packages: fpdf\n",
      "  Building wheel for fpdf (setup.py): started\n",
      "  Building wheel for fpdf (setup.py): finished with status 'done'\n",
      "  Created wheel for fpdf: filename=fpdf-1.7.2-py2.py3-none-any.whl size=40713 sha256=8f8781a8dcd30d62c9b6adef9d1a99f637f620671be9489d475620bd0c894d7e\n",
      "  Stored in directory: c:\\users\\fer e ju\\appdata\\local\\pip\\cache\\wheels\\65\\4f\\66\\bbda9866da446a72e206d6484cd97381cbc7859a7068541c36\n",
      "Successfully built fpdf\n",
      "Installing collected packages: fpdf\n",
      "Successfully installed fpdf-1.7.2\n"
     ]
    }
   ],
   "source": [
    " !pip install fpdf"
   ]
  },
  {
   "cell_type": "code",
   "execution_count": 1,
   "id": "11377ae8",
   "metadata": {},
   "outputs": [],
   "source": [
    "from fpdf import FPDF"
   ]
  },
  {
   "cell_type": "code",
   "execution_count": 13,
   "id": "76db3c28",
   "metadata": {},
   "outputs": [
    {
     "name": "stdout",
     "output_type": "stream",
     "text": [
      "Orçamento gerado com sucesso!\n"
     ]
    }
   ],
   "source": [
    "# criando um PDF\n",
    "pdf = FPDF()\n",
    "\n",
    "pdf.add_page()\n",
    "pdf.set_font(\"Arial\")\n",
    "pdf.image(\"template.png\", x=0, y=0)\n",
    "\n",
    "pdf.text(115, 145, descricao_projeto)\n",
    "pdf.text(115, 160, horas_previstas)\n",
    "pdf.text(115, 175, valor_hora)\n",
    "pdf.text(115, 190, prazo)\n",
    "pdf.text(115, 205, str(valor_total))\n",
    "\n",
    "pdf.output(\"Orçamento.pdf\")\n",
    "\n",
    "print(\"Orçamento gerado com sucesso!\")"
   ]
  },
  {
   "cell_type": "code",
   "execution_count": null,
   "id": "da1a2d16",
   "metadata": {},
   "outputs": [],
   "source": []
  },
  {
   "cell_type": "code",
   "execution_count": null,
   "id": "add0c0c3",
   "metadata": {},
   "outputs": [],
   "source": []
  }
 ],
 "metadata": {
  "kernelspec": {
   "display_name": "Python 3 (ipykernel)",
   "language": "python",
   "name": "python3"
  },
  "language_info": {
   "codemirror_mode": {
    "name": "ipython",
    "version": 3
   },
   "file_extension": ".py",
   "mimetype": "text/x-python",
   "name": "python",
   "nbconvert_exporter": "python",
   "pygments_lexer": "ipython3",
   "version": "3.11.5"
  }
 },
 "nbformat": 4,
 "nbformat_minor": 5
}
